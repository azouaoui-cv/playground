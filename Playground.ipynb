{
 "cells": [
  {
   "cell_type": "markdown",
   "metadata": {},
   "source": [
    "# Playground"
   ]
  },
  {
   "cell_type": "markdown",
   "metadata": {},
   "source": [
    "---\n",
    "\n",
    "# How convolutions are actually performed under the hood\n",
    "\n",
    "[Source](https://towardsdatascience.com/how-are-convolutions-actually-performed-under-the-hood-226523ce7fbf)"
   ]
  },
  {
   "cell_type": "markdown",
   "metadata": {},
   "source": [
    "## Imports"
   ]
  },
  {
   "cell_type": "code",
   "execution_count": 1,
   "metadata": {},
   "outputs": [],
   "source": [
    "import numpy as np\n",
    "import torch\n",
    "import torch.nn as nn\n",
    "import torch.nn.functional as F\n",
    "from time import time\n",
    "import matplotlib.pyplot as plt\n",
    "import seaborn as sns\n",
    "from skimage.util.shape import view_as_windows\n",
    "torch.manual_seed(42);"
   ]
  },
  {
   "cell_type": "markdown",
   "metadata": {},
   "source": [
    "## Style"
   ]
  },
  {
   "cell_type": "code",
   "execution_count": 2,
   "metadata": {},
   "outputs": [],
   "source": [
    "sns.set_style(\"darkgrid\")"
   ]
  },
  {
   "cell_type": "markdown",
   "metadata": {},
   "source": [
    "## Utilities"
   ]
  },
  {
   "cell_type": "code",
   "execution_count": 3,
   "metadata": {},
   "outputs": [],
   "source": [
    "def np2torch(x):\n",
    "    \"\"\"\n",
    "    Convert numpy array to torch tensor\n",
    "    \"\"\"\n",
    "    return torch.from_numpy(x.astype(\"float32\"))"
   ]
  },
  {
   "cell_type": "code",
   "execution_count": 4,
   "metadata": {},
   "outputs": [],
   "source": [
    "def im2col(x, kernel):\n",
    "    \"\"\"\n",
    "    Image Block to Columns implementation\n",
    "    \"\"\"\n",
    "    # Sanity checks\n",
    "    assert len(kernel.shape) == 2, kernel.shape\n",
    "    assert len(x.shape) == 2, x.shape\n",
    "    # Infer shapes\n",
    "    x_h, x_w = x.shape\n",
    "    k_h, k_w = kernel.shape\n",
    "    # Assuming Padding=0, Stride=1\n",
    "    out_h, out_w = (x_h - k_h + 1, x_w - k_w + 1)\n",
    "    \n",
    "    rows = []\n",
    "    \n",
    "    for row in range(out_h):\n",
    "        for col in range(out_w):\n",
    "            window = x[row: row + k_h, col:col + k_w]\n",
    "            rows.append(window.flatten())\n",
    "            \n",
    "    return np.array(rows).T"
   ]
  },
  {
   "cell_type": "code",
   "execution_count": 5,
   "metadata": {},
   "outputs": [],
   "source": [
    "def memory_strided_im2col(x, kernel):\n",
    "    \"\"\"\n",
    "    Memory strided Image Block to Columns implementation\n",
    "    \"\"\"\n",
    "    # Sanity checks\n",
    "    assert len(kernel.shape) == 2, kernel.shape\n",
    "    assert len(x.shape) == 2, x.shape\n",
    "    # Infer shapes\n",
    "    x_h, x_w = x.shape\n",
    "    k_h, k_w = kernel.shape\n",
    "    # Assuming Padding=0, Stride=1\n",
    "    out_h, out_w = (x_h - k_h + 1, x_w - k_w + 1)\n",
    "    \n",
    "    windows = view_as_windows(x, kernel.shape)\n",
    "    return windows.reshape(k_h * k_w, out_h * out_w)"
   ]
  },
  {
   "cell_type": "markdown",
   "metadata": {},
   "source": [
    "## Setup"
   ]
  },
  {
   "cell_type": "code",
   "execution_count": 6,
   "metadata": {},
   "outputs": [],
   "source": [
    "def setup(xh=3, xw=3, kh=2, kw=2, seed=42):\n",
    "    \"\"\"Create convolution setup\"\"\"\n",
    "    np.random.seed(seed)\n",
    "    A = np.random.rand(xh, xw) # input matrix\n",
    "    k = np.random.rand(kh, kw) # kernel \n",
    "    b = np.random.rand(1) # bias\n",
    "    return A, k, b"
   ]
  },
  {
   "cell_type": "code",
   "execution_count": 7,
   "metadata": {},
   "outputs": [],
   "source": [
    "def torch_setup(A, k, b):\n",
    "    \"\"\"\n",
    "    torch setup\n",
    "    \"\"\"\n",
    "    At = np2torch(A).unsqueeze(0).unsqueeze(0)\n",
    "    kt = np2torch(k).unsqueeze(0).unsqueeze(0)\n",
    "    bt = np2torch(b)\n",
    "    return At, kt, bt"
   ]
  },
  {
   "cell_type": "markdown",
   "metadata": {},
   "source": [
    "## Naive implementation"
   ]
  },
  {
   "cell_type": "code",
   "execution_count": 8,
   "metadata": {},
   "outputs": [],
   "source": [
    "def naive_conv_2d(x, kernel, bias):\n",
    "    \"\"\"\n",
    "    Conv2d naive implementation\n",
    "    \"\"\"\n",
    "    # Sanity checks\n",
    "    assert len(kernel.shape) == 2, kernel.shape\n",
    "    assert len(x.shape) == 2, x.shape\n",
    "    # Infer shapes\n",
    "    x_h, x_w = x.shape\n",
    "    k_h, k_w = kernel.shape\n",
    "    # Assuming Padding=0, Stride=1\n",
    "    out_h, out_w = (x_h - k_h + 1, x_w - k_w + 1)\n",
    "    result = np.zeros((out_h, out_w))\n",
    "    # Populate result using convolution\n",
    "    for row in range(out_h):\n",
    "        for col in range(out_w):\n",
    "            window = x[row:row + k_h, col:col + k_w]\n",
    "            result[row, col] = np.sum(kernel * window)\n",
    "            \n",
    "    return result + bias"
   ]
  },
  {
   "cell_type": "markdown",
   "metadata": {},
   "source": [
    "## Torch implementation"
   ]
  },
  {
   "cell_type": "code",
   "execution_count": 9,
   "metadata": {},
   "outputs": [],
   "source": [
    "def torch_conv_2d(x, kernel, bias):\n",
    "    return F.conv2d(input=x, weight=kernel, bias=bias, stride=1, padding=0, dilation=1)"
   ]
  },
  {
   "cell_type": "markdown",
   "metadata": {},
   "source": [
    "## Im2Col implementation"
   ]
  },
  {
   "cell_type": "code",
   "execution_count": 10,
   "metadata": {},
   "outputs": [],
   "source": [
    "def im2col_conv_2d(x, kernel, bias):\n",
    "    \"\"\"\n",
    "    Im2Col convolution implementation\n",
    "    \"\"\"\n",
    "    im2col_matrix = im2col(x, kernel)\n",
    "    \n",
    "    # Infer shapes\n",
    "    x_h, x_w = x.shape\n",
    "    k_h, k_w = kernel.shape\n",
    "    # Assuming Padding=0, Stride=1\n",
    "    out_h, out_w = (x_h - k_h + 1, x_w - k_w + 1)\n",
    "    \n",
    "    im2col_conv = kernel.flatten().dot(im2col_matrix) + bias\n",
    "    return im2col_conv.reshape(out_h, out_w)"
   ]
  },
  {
   "cell_type": "markdown",
   "metadata": {},
   "source": [
    "## Memory strided Im2Col implementation"
   ]
  },
  {
   "cell_type": "code",
   "execution_count": 11,
   "metadata": {},
   "outputs": [],
   "source": [
    "def memory_strided_im2col_conv_2d(x, kernel, bias):\n",
    "    \"\"\"\n",
    "    Memory strided Im2Col convolution implementation\n",
    "    \"\"\"\n",
    "    mem_strided_mat = memory_strided_im2col(x, kernel)\n",
    "    \n",
    "    # Infer shapes\n",
    "    x_h, x_w = x.shape\n",
    "    k_h, k_w = kernel.shape\n",
    "    # Assuming Padding=0, Stride=1\n",
    "    out_h, out_w = (x_h - k_h + 1, x_w - k_w + 1)\n",
    "    \n",
    "    mem_strided_conv = kernel.flatten().dot(mem_strided_mat) + bias\n",
    "    return mem_strided_conv.reshape(out_h, out_w)"
   ]
  },
  {
   "cell_type": "markdown",
   "metadata": {},
   "source": [
    "## Comparison"
   ]
  },
  {
   "cell_type": "code",
   "execution_count": 12,
   "metadata": {},
   "outputs": [
    {
     "name": "stdout",
     "output_type": "stream",
     "text": [
      "[[1.207632   1.18176207]\n",
      " [1.41682216 1.66652925]]\n"
     ]
    }
   ],
   "source": [
    "A, k, b = setup()\n",
    "\n",
    "naive_conv_op = naive_conv_2d(A, k, b)\n",
    "print(naive_conv_op)"
   ]
  },
  {
   "cell_type": "code",
   "execution_count": 13,
   "metadata": {},
   "outputs": [
    {
     "name": "stdout",
     "output_type": "stream",
     "text": [
      "tensor([[[[1.2076, 1.1818],\n",
      "          [1.4168, 1.6665]]]])\n"
     ]
    }
   ],
   "source": [
    "At, kt, bt = torch_setup(A, k, b)\n",
    "\n",
    "torch_conv_op = F.conv2d(input=At, weight=kt, bias=bt, stride=1, padding=0, dilation=1)\n",
    "print(torch_conv_op)"
   ]
  },
  {
   "cell_type": "code",
   "execution_count": 14,
   "metadata": {},
   "outputs": [
    {
     "name": "stdout",
     "output_type": "stream",
     "text": [
      "83.6 µs ± 835 ns per loop (mean ± std. dev. of 7 runs, 10000 loops each)\n"
     ]
    }
   ],
   "source": [
    "%%timeit\n",
    "naive_conv_2d(A, k, b)"
   ]
  },
  {
   "cell_type": "code",
   "execution_count": 15,
   "metadata": {},
   "outputs": [
    {
     "name": "stdout",
     "output_type": "stream",
     "text": [
      "The slowest run took 4.41 times longer than the fastest. This could mean that an intermediate result is being cached.\n",
      "220 µs ± 115 µs per loop (mean ± std. dev. of 7 runs, 1000 loops each)\n"
     ]
    }
   ],
   "source": [
    "%%timeit\n",
    "torch_conv_2d(At, kt, bt)"
   ]
  },
  {
   "cell_type": "code",
   "execution_count": 16,
   "metadata": {},
   "outputs": [
    {
     "name": "stdout",
     "output_type": "stream",
     "text": [
      "27.8 µs ± 334 ns per loop (mean ± std. dev. of 7 runs, 10000 loops each)\n"
     ]
    }
   ],
   "source": [
    "%%timeit\n",
    "im2col_conv_2d(A, k, b)"
   ]
  },
  {
   "cell_type": "code",
   "execution_count": 17,
   "metadata": {},
   "outputs": [
    {
     "name": "stdout",
     "output_type": "stream",
     "text": [
      "109 µs ± 1.81 µs per loop (mean ± std. dev. of 7 runs, 10000 loops each)\n"
     ]
    }
   ],
   "source": [
    "%%timeit\n",
    "memory_strided_im2col_conv_2d(A, k, b)"
   ]
  },
  {
   "cell_type": "code",
   "execution_count": 18,
   "metadata": {},
   "outputs": [],
   "source": [
    "def benchmark(ops, lower=3, upper=304, step=20, nruns=5):\n",
    "    \"\"\"\n",
    "    Conv2d implementation comparison\n",
    "    \"\"\"\n",
    "    # Sanity check\n",
    "    assert ops in [\"naive\", \"torch\", \"im2col\", \"memory_strided\"], ops\n",
    "    is_torch = ops == \"torch\"\n",
    "    \n",
    "    # Setup\n",
    "    if ops == \"naive\":\n",
    "        conv = naive_conv_2d\n",
    "    elif is_torch:\n",
    "        conv = torch_conv_2d\n",
    "    elif ops == \"im2col\":\n",
    "        conv = im2col_conv_2d\n",
    "    elif ops == \"memory_strided\":\n",
    "        conv = memory_strided_im2col_conv_2d\n",
    "    \n",
    "    # Main\n",
    "    runs = []\n",
    "    for _ in range(nruns):\n",
    "        timers = []\n",
    "        for n in range(lower, upper, step):\n",
    "            A, k, b = setup(xh=n, xw=n)\n",
    "            if is_torch:\n",
    "                A, k, b = torch_setup(A, k, b)\n",
    "            start = time()\n",
    "            conv_res = conv(A, k, b)\n",
    "            timers.append((n, time() - start))\n",
    "    \n",
    "        # Convert to np.arrays\n",
    "        ns, times = map(np.array, zip(*timers))\n",
    "        runs.append(times)\n",
    "    return ns, np.mean(runs, axis=0)"
   ]
  },
  {
   "cell_type": "code",
   "execution_count": 19,
   "metadata": {},
   "outputs": [],
   "source": [
    "n_naive, times_naive = benchmark(\"naive\")\n",
    "n_torch, times_torch = benchmark(\"torch\")\n",
    "n_im2col, times_im2col = benchmark(\"im2col\")\n",
    "n_mem_strided, times_mem_strided = benchmark(\"memory_strided\")"
   ]
  },
  {
   "cell_type": "code",
   "execution_count": 20,
   "metadata": {},
   "outputs": [
    {
     "data": {
      "image/png": "[encoded data removed]",
      "text/plain": [
       "<Figure size 648x360 with 1 Axes>"
      ]
     },
     "metadata": {},
     "output_type": "display_data"
    }
   ],
   "source": [
    "plt.figure(figsize=(9, 5))\n",
    "plt.title(\"Convolution operation benchmark\")\n",
    "plt.plot(n_naive, times_naive, label=\"naive\")\n",
    "plt.plot(n_torch, times_torch, label=\"torch\")\n",
    "plt.plot(n_im2col, times_im2col, label=\"im2col\")\n",
    "plt.plot(n_mem_strided, times_mem_strided, label=\"mem_strided\")\n",
    "plt.ylabel(\"Execution time (secs) - Log scale\")\n",
    "plt.xlabel(\"Size of input matrix (n x n)\")\n",
    "plt.yscale(\"log\")\n",
    "plt.legend(frameon=True);"
   ]
  }
 ],
 "metadata": {
  "kernelspec": {
   "display_name": "p37",
   "language": "python",
   "name": "p37"
  },
  "language_info": {
   "codemirror_mode": {
    "name": "ipython",
    "version": 3
   },
   "file_extension": ".py",
   "mimetype": "text/x-python",
   "name": "python",
   "nbconvert_exporter": "python",
   "pygments_lexer": "ipython3",
   "version": "3.7.5"
  }
 },
 "nbformat": 4,
 "nbformat_minor": 4
}
